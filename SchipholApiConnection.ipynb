{
 "cells": [
  {
   "cell_type": "code",
   "execution_count": 14,
   "metadata": {},
   "outputs": [
    {
     "data": {
      "text/plain": [
       "True"
      ]
     },
     "execution_count": 14,
     "metadata": {},
     "output_type": "execute_result"
    }
   ],
   "source": [
    "from dotenv import load_dotenv\n",
    "import os\n",
    "import requests\n",
    "\n",
    "\n",
    "load_dotenv()"
   ]
  },
  {
   "cell_type": "code",
   "execution_count": 15,
   "metadata": {},
   "outputs": [],
   "source": [
    "PUBLIC_FLIGHT_API_KEY = os.getenv(\"SCHIPHOL_PUBLIC_FLIGHT_API_KEY\")\n",
    "PUBLIC_FLIGHT_APPLICATION_ID = os.getenv(\"SCHIPHOL_PUBLIC_FLIGHT_APPLICATION_ID\")"
   ]
  },
  {
   "cell_type": "code",
   "execution_count": 32,
   "metadata": {},
   "outputs": [],
   "source": [
    "def fetchFlightData(flight_id):\n",
    "    url = 'https://api.schiphol.nl/public-flights/flights?flightName='+flight_id\n",
    "\n",
    "    headers = {\n",
    "        'accept': 'application/json',\n",
    "        'resourceversion': 'v4',\n",
    "        'app_id': PUBLIC_FLIGHT_APPLICATION_ID,\n",
    "        'app_key': PUBLIC_FLIGHT_API_KEY\n",
    "    }\n",
    "\n",
    "    try:\n",
    "        response = requests.request('GET', url, headers=headers)\n",
    "    except requests.exceptions.ConnectionError as error:\n",
    "        print(error)\n",
    "        sys.exit()\n",
    "\n",
    "    if response.status_code == 200:\n",
    "        flightList = response.json()\n",
    "        print('found {} flights.'.format(len(flightList['flights'])))\n",
    "        for flight in flightList['flights']:\n",
    "            print(flight)\n",
    "    else:\n",
    "        print('''Oops something went wrong Http response code: {} {}'''.format(response.status_code,\n",
    "                                                                               response.text))\n"
   ]
  },
  {
   "cell_type": "code",
   "execution_count": 33,
   "metadata": {},
   "outputs": [
    {
     "name": "stdout",
     "output_type": "stream",
     "text": [
      "found 1 flights.\n",
      "{'lastUpdatedAt': '2021-02-17T01:58:38.238+01:00', 'actualLandingTime': '2021-02-17T01:45:40.000+01:00', 'actualOffBlockTime': None, 'aircraftRegistration': 'LZCGU', 'aircraftType': {'iataMain': '73F', 'iataSub': '73P'}, 'baggageClaim': None, 'checkinAllocations': None, 'codeshares': None, 'estimatedLandingTime': '2021-02-17T01:45:40.000+01:00', 'expectedTimeBoarding': None, 'expectedTimeGateClosing': None, 'expectedTimeGateOpen': None, 'expectedTimeOnBelt': None, 'expectedSecurityFilter': None, 'flightDirection': 'A', 'flightName': 'QY1442', 'flightNumber': 1442, 'gate': None, 'pier': None, 'id': '131458058496773732', 'isOperationalFlight': True, 'mainFlight': 'QY1442', 'prefixIATA': 'QY', 'prefixICAO': 'BCS', 'airlineCode': 289, 'publicEstimatedOffBlockTime': None, 'publicFlightState': {'flightStates': ['LND', 'EXP']}, 'route': {'destinations': ['LEJ'], 'eu': 'S', 'visa': False}, 'scheduleDateTime': '2021-02-17T02:05:00.000+01:00', 'scheduleDate': '2021-02-17', 'scheduleTime': '02:05:00', 'serviceType': 'F', 'terminal': None, 'transferPositions': None, 'schemaVersion': '4'}\n"
     ]
    }
   ],
   "source": [
    "if __name__ == \"__main__\":\n",
    "    flight_id = 'QY1442'\n",
    "    fetchFlightData(flight_id)"
   ]
  },
  {
   "cell_type": "code",
   "execution_count": null,
   "metadata": {},
   "outputs": [],
   "source": []
  }
 ],
 "metadata": {
  "kernelspec": {
   "display_name": "Python 3",
   "language": "python",
   "name": "python3"
  },
  "language_info": {
   "codemirror_mode": {
    "name": "ipython",
    "version": 3
   },
   "file_extension": ".py",
   "mimetype": "text/x-python",
   "name": "python",
   "nbconvert_exporter": "python",
   "pygments_lexer": "ipython3",
   "version": "3.8.3"
  }
 },
 "nbformat": 4,
 "nbformat_minor": 4
}
